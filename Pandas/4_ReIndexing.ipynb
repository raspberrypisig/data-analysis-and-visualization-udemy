{
 "cells": [
  {
   "cell_type": "code",
   "execution_count": 1,
   "metadata": {
    "collapsed": true
   },
   "outputs": [],
   "source": [
    "import numpy as np\n",
    "import pandas as pd\n",
    "from pandas import Series, DataFrame\n",
    "\n",
    "from numpy.random import randn"
   ]
  },
  {
   "cell_type": "code",
   "execution_count": 2,
   "metadata": {
    "collapsed": false
   },
   "outputs": [
    {
     "data": {
      "text/plain": [
       "A    1\n",
       "B    2\n",
       "C    3\n",
       "D    4\n",
       "dtype: int64"
      ]
     },
     "execution_count": 2,
     "metadata": {},
     "output_type": "execute_result"
    }
   ],
   "source": [
    "ser1 = Series([1,2,3,4], index = ['A', 'B', 'C', 'D'])\n",
    "ser1"
   ]
  },
  {
   "cell_type": "code",
   "execution_count": 4,
   "metadata": {
    "collapsed": false
   },
   "outputs": [
    {
     "data": {
      "text/plain": [
       "A    1.0\n",
       "B    2.0\n",
       "C    3.0\n",
       "D    4.0\n",
       "E    NaN\n",
       "F    NaN\n",
       "dtype: float64"
      ]
     },
     "execution_count": 4,
     "metadata": {},
     "output_type": "execute_result"
    }
   ],
   "source": [
    "ser2 = ser1.reindex(['A', 'B', 'C', 'D', 'E', 'F'])\n",
    "ser2"
   ]
  },
  {
   "cell_type": "code",
   "execution_count": 5,
   "metadata": {
    "collapsed": false
   },
   "outputs": [
    {
     "data": {
      "text/plain": [
       "A    1.0\n",
       "B    2.0\n",
       "C    3.0\n",
       "D    4.0\n",
       "E    NaN\n",
       "F    NaN\n",
       "G    0.0\n",
       "dtype: float64"
      ]
     },
     "execution_count": 5,
     "metadata": {},
     "output_type": "execute_result"
    }
   ],
   "source": [
    "ser2.reindex(['A', 'B', 'C', 'D', 'E', 'F', 'G'], fill_value =0)"
   ]
  },
  {
   "cell_type": "code",
   "execution_count": 6,
   "metadata": {
    "collapsed": false
   },
   "outputs": [
    {
     "data": {
      "text/plain": [
       "0        USA\n",
       "5     Mexico\n",
       "10    Canada\n",
       "dtype: object"
      ]
     },
     "execution_count": 6,
     "metadata": {},
     "output_type": "execute_result"
    }
   ],
   "source": [
    "ser3 = Series(['USA', 'Mexico', 'Canada'], index=[0, 5, 10])\n",
    "ser3"
   ]
  },
  {
   "cell_type": "code",
   "execution_count": 7,
   "metadata": {
    "collapsed": false
   },
   "outputs": [
    {
     "data": {
      "text/plain": [
       "[0, 1, 2, 3, 4, 5, 6, 7, 8, 9, 10, 11, 12, 13, 14]"
      ]
     },
     "execution_count": 7,
     "metadata": {},
     "output_type": "execute_result"
    }
   ],
   "source": [
    "ranger = range(15)\n",
    "ranger"
   ]
  },
  {
   "cell_type": "code",
   "execution_count": 9,
   "metadata": {
    "collapsed": false
   },
   "outputs": [
    {
     "data": {
      "text/plain": [
       "0        USA\n",
       "1        USA\n",
       "2        USA\n",
       "3        USA\n",
       "4        USA\n",
       "5     Mexico\n",
       "6     Mexico\n",
       "7     Mexico\n",
       "8     Mexico\n",
       "9     Mexico\n",
       "10    Canada\n",
       "11    Canada\n",
       "12    Canada\n",
       "13    Canada\n",
       "14    Canada\n",
       "dtype: object"
      ]
     },
     "execution_count": 9,
     "metadata": {},
     "output_type": "execute_result"
    }
   ],
   "source": [
    "ser3.reindex(ranger, method='ffill')"
   ]
  },
  {
   "cell_type": "code",
   "execution_count": 10,
   "metadata": {
    "collapsed": false
   },
   "outputs": [
    {
     "data": {
      "text/html": [
       "<div>\n",
       "<table border=\"1\" class=\"dataframe\">\n",
       "  <thead>\n",
       "    <tr style=\"text-align: right;\">\n",
       "      <th></th>\n",
       "      <th>col1</th>\n",
       "      <th>col2</th>\n",
       "      <th>col3</th>\n",
       "      <th>col4</th>\n",
       "      <th>col5</th>\n",
       "    </tr>\n",
       "  </thead>\n",
       "  <tbody>\n",
       "    <tr>\n",
       "      <th>A</th>\n",
       "      <td>-0.870401</td>\n",
       "      <td>-0.779939</td>\n",
       "      <td>-1.850659</td>\n",
       "      <td>0.369554</td>\n",
       "      <td>-1.165351</td>\n",
       "    </tr>\n",
       "    <tr>\n",
       "      <th>B</th>\n",
       "      <td>0.957750</td>\n",
       "      <td>-0.010807</td>\n",
       "      <td>0.636661</td>\n",
       "      <td>0.982337</td>\n",
       "      <td>0.196977</td>\n",
       "    </tr>\n",
       "    <tr>\n",
       "      <th>D</th>\n",
       "      <td>-0.128612</td>\n",
       "      <td>0.973737</td>\n",
       "      <td>-0.386535</td>\n",
       "      <td>-0.426004</td>\n",
       "      <td>0.900942</td>\n",
       "    </tr>\n",
       "    <tr>\n",
       "      <th>E</th>\n",
       "      <td>0.092951</td>\n",
       "      <td>-0.483677</td>\n",
       "      <td>-0.880436</td>\n",
       "      <td>1.850698</td>\n",
       "      <td>0.581143</td>\n",
       "    </tr>\n",
       "    <tr>\n",
       "      <th>F</th>\n",
       "      <td>0.613512</td>\n",
       "      <td>-0.087603</td>\n",
       "      <td>-1.156613</td>\n",
       "      <td>0.605141</td>\n",
       "      <td>-0.089003</td>\n",
       "    </tr>\n",
       "  </tbody>\n",
       "</table>\n",
       "</div>"
      ],
      "text/plain": [
       "       col1      col2      col3      col4      col5\n",
       "A -0.870401 -0.779939 -1.850659  0.369554 -1.165351\n",
       "B  0.957750 -0.010807  0.636661  0.982337  0.196977\n",
       "D -0.128612  0.973737 -0.386535 -0.426004  0.900942\n",
       "E  0.092951 -0.483677 -0.880436  1.850698  0.581143\n",
       "F  0.613512 -0.087603 -1.156613  0.605141 -0.089003"
      ]
     },
     "execution_count": 10,
     "metadata": {},
     "output_type": "execute_result"
    }
   ],
   "source": [
    "dframe = DataFrame(randn(25).reshape((5,5)), index=['A', 'B', 'D', 'E', 'F'], columns=['col1','col2','col3','col4','col5'])\n",
    "\n",
    "dframe"
   ]
  },
  {
   "cell_type": "code",
   "execution_count": 11,
   "metadata": {
    "collapsed": false
   },
   "outputs": [
    {
     "data": {
      "text/html": [
       "<div>\n",
       "<table border=\"1\" class=\"dataframe\">\n",
       "  <thead>\n",
       "    <tr style=\"text-align: right;\">\n",
       "      <th></th>\n",
       "      <th>col1</th>\n",
       "      <th>col2</th>\n",
       "      <th>col3</th>\n",
       "      <th>col4</th>\n",
       "      <th>col5</th>\n",
       "    </tr>\n",
       "  </thead>\n",
       "  <tbody>\n",
       "    <tr>\n",
       "      <th>A</th>\n",
       "      <td>-0.870401</td>\n",
       "      <td>-0.779939</td>\n",
       "      <td>-1.850659</td>\n",
       "      <td>0.369554</td>\n",
       "      <td>-1.165351</td>\n",
       "    </tr>\n",
       "    <tr>\n",
       "      <th>B</th>\n",
       "      <td>0.957750</td>\n",
       "      <td>-0.010807</td>\n",
       "      <td>0.636661</td>\n",
       "      <td>0.982337</td>\n",
       "      <td>0.196977</td>\n",
       "    </tr>\n",
       "    <tr>\n",
       "      <th>C</th>\n",
       "      <td>NaN</td>\n",
       "      <td>NaN</td>\n",
       "      <td>NaN</td>\n",
       "      <td>NaN</td>\n",
       "      <td>NaN</td>\n",
       "    </tr>\n",
       "    <tr>\n",
       "      <th>D</th>\n",
       "      <td>-0.128612</td>\n",
       "      <td>0.973737</td>\n",
       "      <td>-0.386535</td>\n",
       "      <td>-0.426004</td>\n",
       "      <td>0.900942</td>\n",
       "    </tr>\n",
       "    <tr>\n",
       "      <th>E</th>\n",
       "      <td>0.092951</td>\n",
       "      <td>-0.483677</td>\n",
       "      <td>-0.880436</td>\n",
       "      <td>1.850698</td>\n",
       "      <td>0.581143</td>\n",
       "    </tr>\n",
       "    <tr>\n",
       "      <th>F</th>\n",
       "      <td>0.613512</td>\n",
       "      <td>-0.087603</td>\n",
       "      <td>-1.156613</td>\n",
       "      <td>0.605141</td>\n",
       "      <td>-0.089003</td>\n",
       "    </tr>\n",
       "  </tbody>\n",
       "</table>\n",
       "</div>"
      ],
      "text/plain": [
       "       col1      col2      col3      col4      col5\n",
       "A -0.870401 -0.779939 -1.850659  0.369554 -1.165351\n",
       "B  0.957750 -0.010807  0.636661  0.982337  0.196977\n",
       "C       NaN       NaN       NaN       NaN       NaN\n",
       "D -0.128612  0.973737 -0.386535 -0.426004  0.900942\n",
       "E  0.092951 -0.483677 -0.880436  1.850698  0.581143\n",
       "F  0.613512 -0.087603 -1.156613  0.605141 -0.089003"
      ]
     },
     "execution_count": 11,
     "metadata": {},
     "output_type": "execute_result"
    }
   ],
   "source": [
    "dframe2 = dframe.reindex(['A', 'B', 'C', 'D', 'E', 'F'])\n",
    "dframe2"
   ]
  },
  {
   "cell_type": "code",
   "execution_count": 12,
   "metadata": {
    "collapsed": true
   },
   "outputs": [],
   "source": [
    "new_columns = ['col1', 'col2', 'col3', 'col4', 'col5', 'col6']\n"
   ]
  },
  {
   "cell_type": "code",
   "execution_count": 13,
   "metadata": {
    "collapsed": false
   },
   "outputs": [
    {
     "data": {
      "text/html": [
       "<div>\n",
       "<table border=\"1\" class=\"dataframe\">\n",
       "  <thead>\n",
       "    <tr style=\"text-align: right;\">\n",
       "      <th></th>\n",
       "      <th>col1</th>\n",
       "      <th>col2</th>\n",
       "      <th>col3</th>\n",
       "      <th>col4</th>\n",
       "      <th>col5</th>\n",
       "      <th>col6</th>\n",
       "    </tr>\n",
       "  </thead>\n",
       "  <tbody>\n",
       "    <tr>\n",
       "      <th>A</th>\n",
       "      <td>-0.870401</td>\n",
       "      <td>-0.779939</td>\n",
       "      <td>-1.850659</td>\n",
       "      <td>0.369554</td>\n",
       "      <td>-1.165351</td>\n",
       "      <td>NaN</td>\n",
       "    </tr>\n",
       "    <tr>\n",
       "      <th>B</th>\n",
       "      <td>0.957750</td>\n",
       "      <td>-0.010807</td>\n",
       "      <td>0.636661</td>\n",
       "      <td>0.982337</td>\n",
       "      <td>0.196977</td>\n",
       "      <td>NaN</td>\n",
       "    </tr>\n",
       "    <tr>\n",
       "      <th>C</th>\n",
       "      <td>NaN</td>\n",
       "      <td>NaN</td>\n",
       "      <td>NaN</td>\n",
       "      <td>NaN</td>\n",
       "      <td>NaN</td>\n",
       "      <td>NaN</td>\n",
       "    </tr>\n",
       "    <tr>\n",
       "      <th>D</th>\n",
       "      <td>-0.128612</td>\n",
       "      <td>0.973737</td>\n",
       "      <td>-0.386535</td>\n",
       "      <td>-0.426004</td>\n",
       "      <td>0.900942</td>\n",
       "      <td>NaN</td>\n",
       "    </tr>\n",
       "    <tr>\n",
       "      <th>E</th>\n",
       "      <td>0.092951</td>\n",
       "      <td>-0.483677</td>\n",
       "      <td>-0.880436</td>\n",
       "      <td>1.850698</td>\n",
       "      <td>0.581143</td>\n",
       "      <td>NaN</td>\n",
       "    </tr>\n",
       "    <tr>\n",
       "      <th>F</th>\n",
       "      <td>0.613512</td>\n",
       "      <td>-0.087603</td>\n",
       "      <td>-1.156613</td>\n",
       "      <td>0.605141</td>\n",
       "      <td>-0.089003</td>\n",
       "      <td>NaN</td>\n",
       "    </tr>\n",
       "  </tbody>\n",
       "</table>\n",
       "</div>"
      ],
      "text/plain": [
       "       col1      col2      col3      col4      col5  col6\n",
       "A -0.870401 -0.779939 -1.850659  0.369554 -1.165351   NaN\n",
       "B  0.957750 -0.010807  0.636661  0.982337  0.196977   NaN\n",
       "C       NaN       NaN       NaN       NaN       NaN   NaN\n",
       "D -0.128612  0.973737 -0.386535 -0.426004  0.900942   NaN\n",
       "E  0.092951 -0.483677 -0.880436  1.850698  0.581143   NaN\n",
       "F  0.613512 -0.087603 -1.156613  0.605141 -0.089003   NaN"
      ]
     },
     "execution_count": 13,
     "metadata": {},
     "output_type": "execute_result"
    }
   ],
   "source": [
    "dframe2.reindex(columns = new_columns)"
   ]
  },
  {
   "cell_type": "code",
   "execution_count": 14,
   "metadata": {
    "collapsed": false
   },
   "outputs": [
    {
     "data": {
      "text/html": [
       "<div>\n",
       "<table border=\"1\" class=\"dataframe\">\n",
       "  <thead>\n",
       "    <tr style=\"text-align: right;\">\n",
       "      <th></th>\n",
       "      <th>col1</th>\n",
       "      <th>col2</th>\n",
       "      <th>col3</th>\n",
       "      <th>col4</th>\n",
       "      <th>col5</th>\n",
       "    </tr>\n",
       "  </thead>\n",
       "  <tbody>\n",
       "    <tr>\n",
       "      <th>A</th>\n",
       "      <td>-0.870401</td>\n",
       "      <td>-0.779939</td>\n",
       "      <td>-1.850659</td>\n",
       "      <td>0.369554</td>\n",
       "      <td>-1.165351</td>\n",
       "    </tr>\n",
       "    <tr>\n",
       "      <th>B</th>\n",
       "      <td>0.957750</td>\n",
       "      <td>-0.010807</td>\n",
       "      <td>0.636661</td>\n",
       "      <td>0.982337</td>\n",
       "      <td>0.196977</td>\n",
       "    </tr>\n",
       "    <tr>\n",
       "      <th>D</th>\n",
       "      <td>-0.128612</td>\n",
       "      <td>0.973737</td>\n",
       "      <td>-0.386535</td>\n",
       "      <td>-0.426004</td>\n",
       "      <td>0.900942</td>\n",
       "    </tr>\n",
       "    <tr>\n",
       "      <th>E</th>\n",
       "      <td>0.092951</td>\n",
       "      <td>-0.483677</td>\n",
       "      <td>-0.880436</td>\n",
       "      <td>1.850698</td>\n",
       "      <td>0.581143</td>\n",
       "    </tr>\n",
       "    <tr>\n",
       "      <th>F</th>\n",
       "      <td>0.613512</td>\n",
       "      <td>-0.087603</td>\n",
       "      <td>-1.156613</td>\n",
       "      <td>0.605141</td>\n",
       "      <td>-0.089003</td>\n",
       "    </tr>\n",
       "  </tbody>\n",
       "</table>\n",
       "</div>"
      ],
      "text/plain": [
       "       col1      col2      col3      col4      col5\n",
       "A -0.870401 -0.779939 -1.850659  0.369554 -1.165351\n",
       "B  0.957750 -0.010807  0.636661  0.982337  0.196977\n",
       "D -0.128612  0.973737 -0.386535 -0.426004  0.900942\n",
       "E  0.092951 -0.483677 -0.880436  1.850698  0.581143\n",
       "F  0.613512 -0.087603 -1.156613  0.605141 -0.089003"
      ]
     },
     "execution_count": 14,
     "metadata": {},
     "output_type": "execute_result"
    }
   ],
   "source": [
    "dframe"
   ]
  },
  {
   "cell_type": "code",
   "execution_count": 16,
   "metadata": {
    "collapsed": false
   },
   "outputs": [
    {
     "data": {
      "text/html": [
       "<div>\n",
       "<table border=\"1\" class=\"dataframe\">\n",
       "  <thead>\n",
       "    <tr style=\"text-align: right;\">\n",
       "      <th></th>\n",
       "      <th>col1</th>\n",
       "      <th>col2</th>\n",
       "      <th>col3</th>\n",
       "      <th>col4</th>\n",
       "      <th>col5</th>\n",
       "      <th>col6</th>\n",
       "    </tr>\n",
       "  </thead>\n",
       "  <tbody>\n",
       "    <tr>\n",
       "      <th>A</th>\n",
       "      <td>-0.870401</td>\n",
       "      <td>-0.779939</td>\n",
       "      <td>-1.850659</td>\n",
       "      <td>0.369554</td>\n",
       "      <td>-1.165351</td>\n",
       "      <td>NaN</td>\n",
       "    </tr>\n",
       "    <tr>\n",
       "      <th>B</th>\n",
       "      <td>0.957750</td>\n",
       "      <td>-0.010807</td>\n",
       "      <td>0.636661</td>\n",
       "      <td>0.982337</td>\n",
       "      <td>0.196977</td>\n",
       "      <td>NaN</td>\n",
       "    </tr>\n",
       "    <tr>\n",
       "      <th>C</th>\n",
       "      <td>NaN</td>\n",
       "      <td>NaN</td>\n",
       "      <td>NaN</td>\n",
       "      <td>NaN</td>\n",
       "      <td>NaN</td>\n",
       "      <td>NaN</td>\n",
       "    </tr>\n",
       "    <tr>\n",
       "      <th>D</th>\n",
       "      <td>-0.128612</td>\n",
       "      <td>0.973737</td>\n",
       "      <td>-0.386535</td>\n",
       "      <td>-0.426004</td>\n",
       "      <td>0.900942</td>\n",
       "      <td>NaN</td>\n",
       "    </tr>\n",
       "    <tr>\n",
       "      <th>E</th>\n",
       "      <td>0.092951</td>\n",
       "      <td>-0.483677</td>\n",
       "      <td>-0.880436</td>\n",
       "      <td>1.850698</td>\n",
       "      <td>0.581143</td>\n",
       "      <td>NaN</td>\n",
       "    </tr>\n",
       "    <tr>\n",
       "      <th>F</th>\n",
       "      <td>0.613512</td>\n",
       "      <td>-0.087603</td>\n",
       "      <td>-1.156613</td>\n",
       "      <td>0.605141</td>\n",
       "      <td>-0.089003</td>\n",
       "      <td>NaN</td>\n",
       "    </tr>\n",
       "  </tbody>\n",
       "</table>\n",
       "</div>"
      ],
      "text/plain": [
       "       col1      col2      col3      col4      col5  col6\n",
       "A -0.870401 -0.779939 -1.850659  0.369554 -1.165351   NaN\n",
       "B  0.957750 -0.010807  0.636661  0.982337  0.196977   NaN\n",
       "C       NaN       NaN       NaN       NaN       NaN   NaN\n",
       "D -0.128612  0.973737 -0.386535 -0.426004  0.900942   NaN\n",
       "E  0.092951 -0.483677 -0.880436  1.850698  0.581143   NaN\n",
       "F  0.613512 -0.087603 -1.156613  0.605141 -0.089003   NaN"
      ]
     },
     "execution_count": 16,
     "metadata": {},
     "output_type": "execute_result"
    }
   ],
   "source": [
    "dframe.ix[['A', 'B', 'C', 'D', 'E', 'F'], new_columns]"
   ]
  },
  {
   "cell_type": "code",
   "execution_count": 18,
   "metadata": {
    "collapsed": false
   },
   "outputs": [
    {
     "data": {
      "text/html": [
       "<div>\n",
       "<table border=\"1\" class=\"dataframe\">\n",
       "  <thead>\n",
       "    <tr style=\"text-align: right;\">\n",
       "      <th></th>\n",
       "      <th>col1</th>\n",
       "      <th>col2</th>\n",
       "      <th>col3</th>\n",
       "      <th>col4</th>\n",
       "      <th>col5</th>\n",
       "    </tr>\n",
       "  </thead>\n",
       "  <tbody>\n",
       "    <tr>\n",
       "      <th>A</th>\n",
       "      <td>-0.870401</td>\n",
       "      <td>-0.779939</td>\n",
       "      <td>-1.850659</td>\n",
       "      <td>0.369554</td>\n",
       "      <td>-1.165351</td>\n",
       "    </tr>\n",
       "    <tr>\n",
       "      <th>B</th>\n",
       "      <td>0.957750</td>\n",
       "      <td>-0.010807</td>\n",
       "      <td>0.636661</td>\n",
       "      <td>0.982337</td>\n",
       "      <td>0.196977</td>\n",
       "    </tr>\n",
       "    <tr>\n",
       "      <th>D</th>\n",
       "      <td>-0.128612</td>\n",
       "      <td>0.973737</td>\n",
       "      <td>-0.386535</td>\n",
       "      <td>-0.426004</td>\n",
       "      <td>0.900942</td>\n",
       "    </tr>\n",
       "    <tr>\n",
       "      <th>E</th>\n",
       "      <td>0.092951</td>\n",
       "      <td>-0.483677</td>\n",
       "      <td>-0.880436</td>\n",
       "      <td>1.850698</td>\n",
       "      <td>0.581143</td>\n",
       "    </tr>\n",
       "    <tr>\n",
       "      <th>F</th>\n",
       "      <td>0.613512</td>\n",
       "      <td>-0.087603</td>\n",
       "      <td>-1.156613</td>\n",
       "      <td>0.605141</td>\n",
       "      <td>-0.089003</td>\n",
       "    </tr>\n",
       "  </tbody>\n",
       "</table>\n",
       "</div>"
      ],
      "text/plain": [
       "       col1      col2      col3      col4      col5\n",
       "A -0.870401 -0.779939 -1.850659  0.369554 -1.165351\n",
       "B  0.957750 -0.010807  0.636661  0.982337  0.196977\n",
       "D -0.128612  0.973737 -0.386535 -0.426004  0.900942\n",
       "E  0.092951 -0.483677 -0.880436  1.850698  0.581143\n",
       "F  0.613512 -0.087603 -1.156613  0.605141 -0.089003"
      ]
     },
     "execution_count": 18,
     "metadata": {},
     "output_type": "execute_result"
    }
   ],
   "source": [
    "dframe"
   ]
  },
  {
   "cell_type": "code",
   "execution_count": null,
   "metadata": {
    "collapsed": true
   },
   "outputs": [],
   "source": []
  }
 ],
 "metadata": {
  "anaconda-cloud": {},
  "kernelspec": {
   "display_name": "Python [conda env:MLdevtools]",
   "language": "python",
   "name": "conda-env-MLdevtools-py"
  },
  "language_info": {
   "codemirror_mode": {
    "name": "ipython",
    "version": 2
   },
   "file_extension": ".py",
   "mimetype": "text/x-python",
   "name": "python",
   "nbconvert_exporter": "python",
   "pygments_lexer": "ipython2",
   "version": "2.7.12"
  }
 },
 "nbformat": 4,
 "nbformat_minor": 1
}
