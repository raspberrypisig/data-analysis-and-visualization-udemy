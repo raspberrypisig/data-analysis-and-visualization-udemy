{
 "cells": [
  {
   "cell_type": "code",
   "execution_count": 24,
   "metadata": {
    "collapsed": true
   },
   "outputs": [],
   "source": [
    "import numpy as np\n",
    "import pandas as pd\n",
    "from pandas import Series, DataFrame"
   ]
  },
  {
   "cell_type": "code",
   "execution_count": 25,
   "metadata": {
    "collapsed": true
   },
   "outputs": [],
   "source": [
    "dframe = pd.read_csv('new.csv')"
   ]
  },
  {
   "cell_type": "code",
   "execution_count": 26,
   "metadata": {
    "collapsed": false
   },
   "outputs": [
    {
     "data": {
      "text/html": [
       "<div>\n",
       "<table border=\"1\" class=\"dataframe\">\n",
       "  <thead>\n",
       "    <tr style=\"text-align: right;\">\n",
       "      <th></th>\n",
       "      <th>ATP</th>\n",
       "      <th>Location</th>\n",
       "      <th>Tournament</th>\n",
       "      <th>Date</th>\n",
       "      <th>Series</th>\n",
       "      <th>Court</th>\n",
       "      <th>Surface</th>\n",
       "      <th>Round</th>\n",
       "      <th>Best of</th>\n",
       "      <th>Winner</th>\n",
       "      <th>Loser</th>\n",
       "    </tr>\n",
       "  </thead>\n",
       "  <tbody>\n",
       "    <tr>\n",
       "      <th>0</th>\n",
       "      <td>38</td>\n",
       "      <td>London</td>\n",
       "      <td>Wimbledon</td>\n",
       "      <td>25/06/2001</td>\n",
       "      <td>Grand Slam</td>\n",
       "      <td>Outdoor</td>\n",
       "      <td>Grass</td>\n",
       "      <td>4th Round</td>\n",
       "      <td>5</td>\n",
       "      <td>Federer R.</td>\n",
       "      <td>Sampras</td>\n",
       "    </tr>\n",
       "    <tr>\n",
       "      <th>1</th>\n",
       "      <td>38</td>\n",
       "      <td>London</td>\n",
       "      <td>Wimbledon</td>\n",
       "      <td>25/06/2001</td>\n",
       "      <td>Grand Slam</td>\n",
       "      <td>Outdoor</td>\n",
       "      <td>Grass</td>\n",
       "      <td>4th Round</td>\n",
       "      <td>5</td>\n",
       "      <td>Henman T.</td>\n",
       "      <td>Martin</td>\n",
       "    </tr>\n",
       "    <tr>\n",
       "      <th>2</th>\n",
       "      <td>38</td>\n",
       "      <td>London</td>\n",
       "      <td>Wimbledon</td>\n",
       "      <td>25/06/2001</td>\n",
       "      <td>Grand Slam</td>\n",
       "      <td>Outdoor</td>\n",
       "      <td>Grass</td>\n",
       "      <td>4th Round</td>\n",
       "      <td>5</td>\n",
       "      <td>Ivanisevic G.</td>\n",
       "      <td>Rusedski G.</td>\n",
       "    </tr>\n",
       "  </tbody>\n",
       "</table>\n",
       "</div>"
      ],
      "text/plain": [
       "   ATP Location Tournament        Date      Series    Court Surface  \\\n",
       "0   38   London  Wimbledon  25/06/2001  Grand Slam  Outdoor   Grass   \n",
       "1   38   London  Wimbledon  25/06/2001  Grand Slam  Outdoor   Grass   \n",
       "2   38   London  Wimbledon  25/06/2001  Grand Slam  Outdoor   Grass   \n",
       "\n",
       "       Round  Best of         Winner        Loser  \n",
       "0  4th Round        5     Federer R.      Sampras  \n",
       "1  4th Round        5      Henman T.       Martin  \n",
       "2  4th Round        5  Ivanisevic G.  Rusedski G.  "
      ]
     },
     "execution_count": 26,
     "metadata": {},
     "output_type": "execute_result"
    }
   ],
   "source": [
    "dframe"
   ]
  },
  {
   "cell_type": "code",
   "execution_count": 27,
   "metadata": {
    "collapsed": true
   },
   "outputs": [],
   "source": [
    "dframe2 = pd.read_csv('new.csv', header=None)"
   ]
  },
  {
   "cell_type": "code",
   "execution_count": 28,
   "metadata": {
    "collapsed": false
   },
   "outputs": [
    {
     "data": {
      "text/html": [
       "<div>\n",
       "<table border=\"1\" class=\"dataframe\">\n",
       "  <thead>\n",
       "    <tr style=\"text-align: right;\">\n",
       "      <th></th>\n",
       "      <th>0</th>\n",
       "      <th>1</th>\n",
       "      <th>2</th>\n",
       "      <th>3</th>\n",
       "      <th>4</th>\n",
       "      <th>5</th>\n",
       "      <th>6</th>\n",
       "      <th>7</th>\n",
       "      <th>8</th>\n",
       "      <th>9</th>\n",
       "      <th>10</th>\n",
       "    </tr>\n",
       "  </thead>\n",
       "  <tbody>\n",
       "    <tr>\n",
       "      <th>0</th>\n",
       "      <td>ATP</td>\n",
       "      <td>Location</td>\n",
       "      <td>Tournament</td>\n",
       "      <td>Date</td>\n",
       "      <td>Series</td>\n",
       "      <td>Court</td>\n",
       "      <td>Surface</td>\n",
       "      <td>Round</td>\n",
       "      <td>Best of</td>\n",
       "      <td>Winner</td>\n",
       "      <td>Loser</td>\n",
       "    </tr>\n",
       "    <tr>\n",
       "      <th>1</th>\n",
       "      <td>38</td>\n",
       "      <td>London</td>\n",
       "      <td>Wimbledon</td>\n",
       "      <td>25/06/2001</td>\n",
       "      <td>Grand Slam</td>\n",
       "      <td>Outdoor</td>\n",
       "      <td>Grass</td>\n",
       "      <td>4th Round</td>\n",
       "      <td>5</td>\n",
       "      <td>Federer R.</td>\n",
       "      <td>Sampras</td>\n",
       "    </tr>\n",
       "    <tr>\n",
       "      <th>2</th>\n",
       "      <td>38</td>\n",
       "      <td>London</td>\n",
       "      <td>Wimbledon</td>\n",
       "      <td>25/06/2001</td>\n",
       "      <td>Grand Slam</td>\n",
       "      <td>Outdoor</td>\n",
       "      <td>Grass</td>\n",
       "      <td>4th Round</td>\n",
       "      <td>5</td>\n",
       "      <td>Henman T.</td>\n",
       "      <td>Martin</td>\n",
       "    </tr>\n",
       "    <tr>\n",
       "      <th>3</th>\n",
       "      <td>38</td>\n",
       "      <td>London</td>\n",
       "      <td>Wimbledon</td>\n",
       "      <td>25/06/2001</td>\n",
       "      <td>Grand Slam</td>\n",
       "      <td>Outdoor</td>\n",
       "      <td>Grass</td>\n",
       "      <td>4th Round</td>\n",
       "      <td>5</td>\n",
       "      <td>Ivanisevic G.</td>\n",
       "      <td>Rusedski G.</td>\n",
       "    </tr>\n",
       "  </tbody>\n",
       "</table>\n",
       "</div>"
      ],
      "text/plain": [
       "    0         1           2           3           4        5        6   \\\n",
       "0  ATP  Location  Tournament        Date      Series    Court  Surface   \n",
       "1   38    London   Wimbledon  25/06/2001  Grand Slam  Outdoor    Grass   \n",
       "2   38    London   Wimbledon  25/06/2001  Grand Slam  Outdoor    Grass   \n",
       "3   38    London   Wimbledon  25/06/2001  Grand Slam  Outdoor    Grass   \n",
       "\n",
       "          7        8              9            10  \n",
       "0      Round  Best of         Winner        Loser  \n",
       "1  4th Round        5     Federer R.      Sampras  \n",
       "2  4th Round        5      Henman T.       Martin  \n",
       "3  4th Round        5  Ivanisevic G.  Rusedski G.  "
      ]
     },
     "execution_count": 28,
     "metadata": {},
     "output_type": "execute_result"
    }
   ],
   "source": [
    "dframe2"
   ]
  },
  {
   "cell_type": "code",
   "execution_count": 29,
   "metadata": {
    "collapsed": false
   },
   "outputs": [],
   "source": [
    "dframe3 = pd.read_table('new.csv', sep=',', header=None)"
   ]
  },
  {
   "cell_type": "code",
   "execution_count": 30,
   "metadata": {
    "collapsed": false
   },
   "outputs": [
    {
     "data": {
      "text/html": [
       "<div>\n",
       "<table border=\"1\" class=\"dataframe\">\n",
       "  <thead>\n",
       "    <tr style=\"text-align: right;\">\n",
       "      <th></th>\n",
       "      <th>0</th>\n",
       "      <th>1</th>\n",
       "      <th>2</th>\n",
       "      <th>3</th>\n",
       "      <th>4</th>\n",
       "      <th>5</th>\n",
       "      <th>6</th>\n",
       "      <th>7</th>\n",
       "      <th>8</th>\n",
       "      <th>9</th>\n",
       "      <th>10</th>\n",
       "    </tr>\n",
       "  </thead>\n",
       "  <tbody>\n",
       "    <tr>\n",
       "      <th>0</th>\n",
       "      <td>ATP</td>\n",
       "      <td>Location</td>\n",
       "      <td>Tournament</td>\n",
       "      <td>Date</td>\n",
       "      <td>Series</td>\n",
       "      <td>Court</td>\n",
       "      <td>Surface</td>\n",
       "      <td>Round</td>\n",
       "      <td>Best of</td>\n",
       "      <td>Winner</td>\n",
       "      <td>Loser</td>\n",
       "    </tr>\n",
       "    <tr>\n",
       "      <th>1</th>\n",
       "      <td>38</td>\n",
       "      <td>London</td>\n",
       "      <td>Wimbledon</td>\n",
       "      <td>25/06/2001</td>\n",
       "      <td>Grand Slam</td>\n",
       "      <td>Outdoor</td>\n",
       "      <td>Grass</td>\n",
       "      <td>4th Round</td>\n",
       "      <td>5</td>\n",
       "      <td>Federer R.</td>\n",
       "      <td>Sampras</td>\n",
       "    </tr>\n",
       "    <tr>\n",
       "      <th>2</th>\n",
       "      <td>38</td>\n",
       "      <td>London</td>\n",
       "      <td>Wimbledon</td>\n",
       "      <td>25/06/2001</td>\n",
       "      <td>Grand Slam</td>\n",
       "      <td>Outdoor</td>\n",
       "      <td>Grass</td>\n",
       "      <td>4th Round</td>\n",
       "      <td>5</td>\n",
       "      <td>Henman T.</td>\n",
       "      <td>Martin</td>\n",
       "    </tr>\n",
       "    <tr>\n",
       "      <th>3</th>\n",
       "      <td>38</td>\n",
       "      <td>London</td>\n",
       "      <td>Wimbledon</td>\n",
       "      <td>25/06/2001</td>\n",
       "      <td>Grand Slam</td>\n",
       "      <td>Outdoor</td>\n",
       "      <td>Grass</td>\n",
       "      <td>4th Round</td>\n",
       "      <td>5</td>\n",
       "      <td>Ivanisevic G.</td>\n",
       "      <td>Rusedski G.</td>\n",
       "    </tr>\n",
       "  </tbody>\n",
       "</table>\n",
       "</div>"
      ],
      "text/plain": [
       "    0         1           2           3           4        5        6   \\\n",
       "0  ATP  Location  Tournament        Date      Series    Court  Surface   \n",
       "1   38    London   Wimbledon  25/06/2001  Grand Slam  Outdoor    Grass   \n",
       "2   38    London   Wimbledon  25/06/2001  Grand Slam  Outdoor    Grass   \n",
       "3   38    London   Wimbledon  25/06/2001  Grand Slam  Outdoor    Grass   \n",
       "\n",
       "          7        8              9            10  \n",
       "0      Round  Best of         Winner        Loser  \n",
       "1  4th Round        5     Federer R.      Sampras  \n",
       "2  4th Round        5      Henman T.       Martin  \n",
       "3  4th Round        5  Ivanisevic G.  Rusedski G.  "
      ]
     },
     "execution_count": 30,
     "metadata": {},
     "output_type": "execute_result"
    }
   ],
   "source": [
    "dframe3"
   ]
  },
  {
   "cell_type": "code",
   "execution_count": 31,
   "metadata": {
    "collapsed": false,
    "scrolled": true
   },
   "outputs": [
    {
     "data": {
      "text/html": [
       "<div>\n",
       "<table border=\"1\" class=\"dataframe\">\n",
       "  <thead>\n",
       "    <tr style=\"text-align: right;\">\n",
       "      <th></th>\n",
       "      <th>0</th>\n",
       "      <th>1</th>\n",
       "      <th>2</th>\n",
       "      <th>3</th>\n",
       "      <th>4</th>\n",
       "      <th>5</th>\n",
       "      <th>6</th>\n",
       "      <th>7</th>\n",
       "      <th>8</th>\n",
       "      <th>9</th>\n",
       "      <th>10</th>\n",
       "    </tr>\n",
       "  </thead>\n",
       "  <tbody>\n",
       "    <tr>\n",
       "      <th>0</th>\n",
       "      <td>ATP</td>\n",
       "      <td>Location</td>\n",
       "      <td>Tournament</td>\n",
       "      <td>Date</td>\n",
       "      <td>Series</td>\n",
       "      <td>Court</td>\n",
       "      <td>Surface</td>\n",
       "      <td>Round</td>\n",
       "      <td>Best of</td>\n",
       "      <td>Winner</td>\n",
       "      <td>Loser</td>\n",
       "    </tr>\n",
       "    <tr>\n",
       "      <th>1</th>\n",
       "      <td>38</td>\n",
       "      <td>London</td>\n",
       "      <td>Wimbledon</td>\n",
       "      <td>25/06/2001</td>\n",
       "      <td>Grand Slam</td>\n",
       "      <td>Outdoor</td>\n",
       "      <td>Grass</td>\n",
       "      <td>4th Round</td>\n",
       "      <td>5</td>\n",
       "      <td>Federer R.</td>\n",
       "      <td>Sampras</td>\n",
       "    </tr>\n",
       "  </tbody>\n",
       "</table>\n",
       "</div>"
      ],
      "text/plain": [
       "    0         1           2           3           4        5        6   \\\n",
       "0  ATP  Location  Tournament        Date      Series    Court  Surface   \n",
       "1   38    London   Wimbledon  25/06/2001  Grand Slam  Outdoor    Grass   \n",
       "\n",
       "          7        8           9        10  \n",
       "0      Round  Best of      Winner    Loser  \n",
       "1  4th Round        5  Federer R.  Sampras  "
      ]
     },
     "execution_count": 31,
     "metadata": {},
     "output_type": "execute_result"
    }
   ],
   "source": [
    "pd.read_csv('new.csv', header=None, nrows=2)"
   ]
  },
  {
   "cell_type": "code",
   "execution_count": 32,
   "metadata": {
    "collapsed": false
   },
   "outputs": [
    {
     "data": {
      "text/html": [
       "<div>\n",
       "<table border=\"1\" class=\"dataframe\">\n",
       "  <thead>\n",
       "    <tr style=\"text-align: right;\">\n",
       "      <th></th>\n",
       "      <th>ATP</th>\n",
       "      <th>Location</th>\n",
       "      <th>Tournament</th>\n",
       "      <th>Date</th>\n",
       "      <th>Series</th>\n",
       "      <th>Court</th>\n",
       "      <th>Surface</th>\n",
       "      <th>Round</th>\n",
       "      <th>Best of</th>\n",
       "      <th>Winner</th>\n",
       "      <th>Loser</th>\n",
       "    </tr>\n",
       "  </thead>\n",
       "  <tbody>\n",
       "    <tr>\n",
       "      <th>0</th>\n",
       "      <td>38</td>\n",
       "      <td>London</td>\n",
       "      <td>Wimbledon</td>\n",
       "      <td>25/06/2001</td>\n",
       "      <td>Grand Slam</td>\n",
       "      <td>Outdoor</td>\n",
       "      <td>Grass</td>\n",
       "      <td>4th Round</td>\n",
       "      <td>5</td>\n",
       "      <td>Federer R.</td>\n",
       "      <td>Sampras</td>\n",
       "    </tr>\n",
       "    <tr>\n",
       "      <th>1</th>\n",
       "      <td>38</td>\n",
       "      <td>London</td>\n",
       "      <td>Wimbledon</td>\n",
       "      <td>25/06/2001</td>\n",
       "      <td>Grand Slam</td>\n",
       "      <td>Outdoor</td>\n",
       "      <td>Grass</td>\n",
       "      <td>4th Round</td>\n",
       "      <td>5</td>\n",
       "      <td>Henman T.</td>\n",
       "      <td>Martin</td>\n",
       "    </tr>\n",
       "  </tbody>\n",
       "</table>\n",
       "</div>"
      ],
      "text/plain": [
       "   ATP Location Tournament        Date      Series    Court Surface  \\\n",
       "0   38   London  Wimbledon  25/06/2001  Grand Slam  Outdoor   Grass   \n",
       "1   38   London  Wimbledon  25/06/2001  Grand Slam  Outdoor   Grass   \n",
       "\n",
       "       Round  Best of      Winner    Loser  \n",
       "0  4th Round        5  Federer R.  Sampras  \n",
       "1  4th Round        5   Henman T.   Martin  "
      ]
     },
     "execution_count": 32,
     "metadata": {},
     "output_type": "execute_result"
    }
   ],
   "source": [
    "pd.read_csv('new.csv', nrows=2)"
   ]
  },
  {
   "cell_type": "code",
   "execution_count": 33,
   "metadata": {
    "collapsed": false
   },
   "outputs": [
    {
     "data": {
      "text/html": [
       "<div>\n",
       "<table border=\"1\" class=\"dataframe\">\n",
       "  <thead>\n",
       "    <tr style=\"text-align: right;\">\n",
       "      <th></th>\n",
       "      <th>ATP</th>\n",
       "      <th>Location</th>\n",
       "      <th>Tournament</th>\n",
       "      <th>Date</th>\n",
       "      <th>Series</th>\n",
       "      <th>Court</th>\n",
       "      <th>Surface</th>\n",
       "      <th>Round</th>\n",
       "      <th>Best of</th>\n",
       "      <th>Winner</th>\n",
       "      <th>Loser</th>\n",
       "    </tr>\n",
       "  </thead>\n",
       "  <tbody>\n",
       "    <tr>\n",
       "      <th>0</th>\n",
       "      <td>38</td>\n",
       "      <td>London</td>\n",
       "      <td>Wimbledon</td>\n",
       "      <td>25/06/2001</td>\n",
       "      <td>Grand Slam</td>\n",
       "      <td>Outdoor</td>\n",
       "      <td>Grass</td>\n",
       "      <td>4th Round</td>\n",
       "      <td>5</td>\n",
       "      <td>Federer R.</td>\n",
       "      <td>Sampras</td>\n",
       "    </tr>\n",
       "    <tr>\n",
       "      <th>1</th>\n",
       "      <td>38</td>\n",
       "      <td>London</td>\n",
       "      <td>Wimbledon</td>\n",
       "      <td>25/06/2001</td>\n",
       "      <td>Grand Slam</td>\n",
       "      <td>Outdoor</td>\n",
       "      <td>Grass</td>\n",
       "      <td>4th Round</td>\n",
       "      <td>5</td>\n",
       "      <td>Henman T.</td>\n",
       "      <td>Martin</td>\n",
       "    </tr>\n",
       "    <tr>\n",
       "      <th>2</th>\n",
       "      <td>38</td>\n",
       "      <td>London</td>\n",
       "      <td>Wimbledon</td>\n",
       "      <td>25/06/2001</td>\n",
       "      <td>Grand Slam</td>\n",
       "      <td>Outdoor</td>\n",
       "      <td>Grass</td>\n",
       "      <td>4th Round</td>\n",
       "      <td>5</td>\n",
       "      <td>Ivanisevic G.</td>\n",
       "      <td>Rusedski G.</td>\n",
       "    </tr>\n",
       "  </tbody>\n",
       "</table>\n",
       "</div>"
      ],
      "text/plain": [
       "   ATP Location Tournament        Date      Series    Court Surface  \\\n",
       "0   38   London  Wimbledon  25/06/2001  Grand Slam  Outdoor   Grass   \n",
       "1   38   London  Wimbledon  25/06/2001  Grand Slam  Outdoor   Grass   \n",
       "2   38   London  Wimbledon  25/06/2001  Grand Slam  Outdoor   Grass   \n",
       "\n",
       "       Round  Best of         Winner        Loser  \n",
       "0  4th Round        5     Federer R.      Sampras  \n",
       "1  4th Round        5      Henman T.       Martin  \n",
       "2  4th Round        5  Ivanisevic G.  Rusedski G.  "
      ]
     },
     "execution_count": 33,
     "metadata": {},
     "output_type": "execute_result"
    }
   ],
   "source": [
    "dframe"
   ]
  },
  {
   "cell_type": "code",
   "execution_count": 34,
   "metadata": {
    "collapsed": true
   },
   "outputs": [],
   "source": [
    "dframe.to_csv('created.csv')"
   ]
  },
  {
   "cell_type": "code",
   "execution_count": 35,
   "metadata": {
    "collapsed": true
   },
   "outputs": [],
   "source": [
    "import sys"
   ]
  },
  {
   "cell_type": "code",
   "execution_count": 36,
   "metadata": {
    "collapsed": false
   },
   "outputs": [
    {
     "name": "stdout",
     "output_type": "stream",
     "text": [
      ",ATP,Location,Tournament,Date,Series,Court,Surface,Round,Best of,Winner,Loser\n",
      "0,38,London,Wimbledon,25/06/2001,Grand Slam,Outdoor,Grass,4th Round,5,Federer R.,Sampras\n",
      "1,38,London,Wimbledon,25/06/2001,Grand Slam,Outdoor,Grass,4th Round,5,Henman T.,Martin\n",
      "2,38,London,Wimbledon,25/06/2001,Grand Slam,Outdoor,Grass,4th Round,5,Ivanisevic G.,Rusedski G.\n"
     ]
    }
   ],
   "source": [
    "dframe.to_csv(sys.stdout)"
   ]
  },
  {
   "cell_type": "code",
   "execution_count": 37,
   "metadata": {
    "collapsed": false
   },
   "outputs": [
    {
     "name": "stdout",
     "output_type": "stream",
     "text": [
      "_ATP_Location_Tournament_Date_Series_Court_Surface_Round_Best of_Winner_Loser\n",
      "0_38_London_Wimbledon_25/06/2001_Grand Slam_Outdoor_Grass_4th Round_5_Federer R._Sampras\n",
      "1_38_London_Wimbledon_25/06/2001_Grand Slam_Outdoor_Grass_4th Round_5_Henman T._Martin\n",
      "2_38_London_Wimbledon_25/06/2001_Grand Slam_Outdoor_Grass_4th Round_5_Ivanisevic G._Rusedski G.\n"
     ]
    }
   ],
   "source": [
    "dframe.to_csv(sys.stdout, sep='_')"
   ]
  },
  {
   "cell_type": "code",
   "execution_count": 39,
   "metadata": {
    "collapsed": false
   },
   "outputs": [
    {
     "name": "stdout",
     "output_type": "stream",
     "text": [
      "?ATP?Location?Tournament?Date?Series?Court?Surface?Round?Best of?Winner?Loser\n",
      "0?38?London?Wimbledon?25/06/2001?Grand Slam?Outdoor?Grass?4th Round?5?Federer R.?Sampras\n",
      "1?38?London?Wimbledon?25/06/2001?Grand Slam?Outdoor?Grass?4th Round?5?Henman T.?Martin\n",
      "2?38?London?Wimbledon?25/06/2001?Grand Slam?Outdoor?Grass?4th Round?5?Ivanisevic G.?Rusedski G.\n"
     ]
    }
   ],
   "source": [
    "dframe.to_csv(sys.stdout, sep='?')"
   ]
  },
  {
   "cell_type": "code",
   "execution_count": 42,
   "metadata": {
    "collapsed": false
   },
   "outputs": [
    {
     "data": {
      "text/html": [
       "<div>\n",
       "<table border=\"1\" class=\"dataframe\">\n",
       "  <thead>\n",
       "    <tr style=\"text-align: right;\">\n",
       "      <th></th>\n",
       "      <th>ATP</th>\n",
       "      <th>Location</th>\n",
       "      <th>Tournament</th>\n",
       "      <th>Date</th>\n",
       "      <th>Series</th>\n",
       "      <th>Court</th>\n",
       "      <th>Surface</th>\n",
       "      <th>Round</th>\n",
       "      <th>Best of</th>\n",
       "      <th>Winner</th>\n",
       "      <th>Loser</th>\n",
       "    </tr>\n",
       "  </thead>\n",
       "  <tbody>\n",
       "    <tr>\n",
       "      <th>0</th>\n",
       "      <td>38</td>\n",
       "      <td>London</td>\n",
       "      <td>Wimbledon</td>\n",
       "      <td>25/06/2001</td>\n",
       "      <td>Grand Slam</td>\n",
       "      <td>Outdoor</td>\n",
       "      <td>Grass</td>\n",
       "      <td>4th Round</td>\n",
       "      <td>5</td>\n",
       "      <td>Federer R.</td>\n",
       "      <td>Sampras</td>\n",
       "    </tr>\n",
       "    <tr>\n",
       "      <th>1</th>\n",
       "      <td>38</td>\n",
       "      <td>London</td>\n",
       "      <td>Wimbledon</td>\n",
       "      <td>25/06/2001</td>\n",
       "      <td>Grand Slam</td>\n",
       "      <td>Outdoor</td>\n",
       "      <td>Grass</td>\n",
       "      <td>4th Round</td>\n",
       "      <td>5</td>\n",
       "      <td>Henman T.</td>\n",
       "      <td>Martin</td>\n",
       "    </tr>\n",
       "    <tr>\n",
       "      <th>2</th>\n",
       "      <td>38</td>\n",
       "      <td>London</td>\n",
       "      <td>Wimbledon</td>\n",
       "      <td>25/06/2001</td>\n",
       "      <td>Grand Slam</td>\n",
       "      <td>Outdoor</td>\n",
       "      <td>Grass</td>\n",
       "      <td>4th Round</td>\n",
       "      <td>5</td>\n",
       "      <td>Ivanisevic G.</td>\n",
       "      <td>Rusedski G.</td>\n",
       "    </tr>\n",
       "  </tbody>\n",
       "</table>\n",
       "</div>"
      ],
      "text/plain": [
       "   ATP Location Tournament        Date      Series    Court Surface  \\\n",
       "0   38   London  Wimbledon  25/06/2001  Grand Slam  Outdoor   Grass   \n",
       "1   38   London  Wimbledon  25/06/2001  Grand Slam  Outdoor   Grass   \n",
       "2   38   London  Wimbledon  25/06/2001  Grand Slam  Outdoor   Grass   \n",
       "\n",
       "       Round  Best of         Winner        Loser  \n",
       "0  4th Round        5     Federer R.      Sampras  \n",
       "1  4th Round        5      Henman T.       Martin  \n",
       "2  4th Round        5  Ivanisevic G.  Rusedski G.  "
      ]
     },
     "execution_count": 42,
     "metadata": {},
     "output_type": "execute_result"
    }
   ],
   "source": [
    "dframe"
   ]
  },
  {
   "cell_type": "code",
   "execution_count": 45,
   "metadata": {
    "collapsed": false
   },
   "outputs": [
    {
     "ename": "KeyError",
     "evalue": "'None of [[0, 1, 2]] are in the [columns]'",
     "output_type": "error",
     "traceback": [
      "\u001b[0;31m---------------------------------------------------------------------------\u001b[0m",
      "\u001b[0;31mKeyError\u001b[0m                                  Traceback (most recent call last)",
      "\u001b[0;32m<ipython-input-45-8eec7e0da0c4>\u001b[0m in \u001b[0;36m<module>\u001b[0;34m()\u001b[0m\n\u001b[0;32m----> 1\u001b[0;31m \u001b[0mdframe\u001b[0m\u001b[0;34m.\u001b[0m\u001b[0mto_csv\u001b[0m\u001b[0;34m(\u001b[0m\u001b[0msys\u001b[0m\u001b[0;34m.\u001b[0m\u001b[0mstdout\u001b[0m\u001b[0;34m,\u001b[0m \u001b[0mcolumns\u001b[0m\u001b[0;34m=\u001b[0m\u001b[0;34m[\u001b[0m\u001b[0;36m0\u001b[0m\u001b[0;34m,\u001b[0m\u001b[0;36m1\u001b[0m\u001b[0;34m,\u001b[0m\u001b[0;36m2\u001b[0m\u001b[0;34m]\u001b[0m\u001b[0;34m)\u001b[0m\u001b[0;34m\u001b[0m\u001b[0m\n\u001b[0m",
      "\u001b[0;32m/home/sidgupta234/anaconda2/envs/MLdevtools/lib/python2.7/site-packages/pandas/core/frame.pyc\u001b[0m in \u001b[0;36mto_csv\u001b[0;34m(self, path_or_buf, sep, na_rep, float_format, columns, header, index, index_label, mode, encoding, compression, quoting, quotechar, line_terminator, chunksize, tupleize_cols, date_format, doublequote, escapechar, decimal, **kwds)\u001b[0m\n\u001b[1;32m   1341\u001b[0m                                      \u001b[0mdate_format\u001b[0m\u001b[0;34m=\u001b[0m\u001b[0mdate_format\u001b[0m\u001b[0;34m,\u001b[0m\u001b[0;34m\u001b[0m\u001b[0m\n\u001b[1;32m   1342\u001b[0m                                      \u001b[0mdoublequote\u001b[0m\u001b[0;34m=\u001b[0m\u001b[0mdoublequote\u001b[0m\u001b[0;34m,\u001b[0m\u001b[0;34m\u001b[0m\u001b[0m\n\u001b[0;32m-> 1343\u001b[0;31m                                      escapechar=escapechar, decimal=decimal)\n\u001b[0m\u001b[1;32m   1344\u001b[0m         \u001b[0mformatter\u001b[0m\u001b[0;34m.\u001b[0m\u001b[0msave\u001b[0m\u001b[0;34m(\u001b[0m\u001b[0;34m)\u001b[0m\u001b[0;34m\u001b[0m\u001b[0m\n\u001b[1;32m   1345\u001b[0m \u001b[0;34m\u001b[0m\u001b[0m\n",
      "\u001b[0;32m/home/sidgupta234/anaconda2/envs/MLdevtools/lib/python2.7/site-packages/pandas/formats/format.pyc\u001b[0m in \u001b[0;36m__init__\u001b[0;34m(self, obj, path_or_buf, sep, na_rep, float_format, cols, header, index, index_label, mode, nanRep, encoding, compression, quoting, line_terminator, chunksize, engine, tupleize_cols, quotechar, date_format, doublequote, escapechar, decimal)\u001b[0m\n\u001b[1;32m   1376\u001b[0m             \u001b[0;32melse\u001b[0m\u001b[0;34m:\u001b[0m\u001b[0;34m\u001b[0m\u001b[0m\n\u001b[1;32m   1377\u001b[0m                 \u001b[0mcols\u001b[0m \u001b[0;34m=\u001b[0m \u001b[0mlist\u001b[0m\u001b[0;34m(\u001b[0m\u001b[0mcols\u001b[0m\u001b[0;34m)\u001b[0m\u001b[0;34m\u001b[0m\u001b[0m\n\u001b[0;32m-> 1378\u001b[0;31m             \u001b[0mself\u001b[0m\u001b[0;34m.\u001b[0m\u001b[0mobj\u001b[0m \u001b[0;34m=\u001b[0m \u001b[0mself\u001b[0m\u001b[0;34m.\u001b[0m\u001b[0mobj\u001b[0m\u001b[0;34m.\u001b[0m\u001b[0mloc\u001b[0m\u001b[0;34m[\u001b[0m\u001b[0;34m:\u001b[0m\u001b[0;34m,\u001b[0m \u001b[0mcols\u001b[0m\u001b[0;34m]\u001b[0m\u001b[0;34m\u001b[0m\u001b[0m\n\u001b[0m\u001b[1;32m   1379\u001b[0m \u001b[0;34m\u001b[0m\u001b[0m\n\u001b[1;32m   1380\u001b[0m         \u001b[0;31m# update columns to include possible multiplicity of dupes\u001b[0m\u001b[0;34m\u001b[0m\u001b[0;34m\u001b[0m\u001b[0m\n",
      "\u001b[0;32m/home/sidgupta234/anaconda2/envs/MLdevtools/lib/python2.7/site-packages/pandas/core/indexing.pyc\u001b[0m in \u001b[0;36m__getitem__\u001b[0;34m(self, key)\u001b[0m\n\u001b[1;32m   1292\u001b[0m \u001b[0;34m\u001b[0m\u001b[0m\n\u001b[1;32m   1293\u001b[0m         \u001b[0;32mif\u001b[0m \u001b[0mtype\u001b[0m\u001b[0;34m(\u001b[0m\u001b[0mkey\u001b[0m\u001b[0;34m)\u001b[0m \u001b[0;32mis\u001b[0m \u001b[0mtuple\u001b[0m\u001b[0;34m:\u001b[0m\u001b[0;34m\u001b[0m\u001b[0m\n\u001b[0;32m-> 1294\u001b[0;31m             \u001b[0;32mreturn\u001b[0m \u001b[0mself\u001b[0m\u001b[0;34m.\u001b[0m\u001b[0m_getitem_tuple\u001b[0m\u001b[0;34m(\u001b[0m\u001b[0mkey\u001b[0m\u001b[0;34m)\u001b[0m\u001b[0;34m\u001b[0m\u001b[0m\n\u001b[0m\u001b[1;32m   1295\u001b[0m         \u001b[0;32melse\u001b[0m\u001b[0;34m:\u001b[0m\u001b[0;34m\u001b[0m\u001b[0m\n\u001b[1;32m   1296\u001b[0m             \u001b[0;32mreturn\u001b[0m \u001b[0mself\u001b[0m\u001b[0;34m.\u001b[0m\u001b[0m_getitem_axis\u001b[0m\u001b[0;34m(\u001b[0m\u001b[0mkey\u001b[0m\u001b[0;34m,\u001b[0m \u001b[0maxis\u001b[0m\u001b[0;34m=\u001b[0m\u001b[0;36m0\u001b[0m\u001b[0;34m)\u001b[0m\u001b[0;34m\u001b[0m\u001b[0m\n",
      "\u001b[0;32m/home/sidgupta234/anaconda2/envs/MLdevtools/lib/python2.7/site-packages/pandas/core/indexing.pyc\u001b[0m in \u001b[0;36m_getitem_tuple\u001b[0;34m(self, tup)\u001b[0m\n\u001b[1;32m    787\u001b[0m \u001b[0;34m\u001b[0m\u001b[0m\n\u001b[1;32m    788\u001b[0m         \u001b[0;31m# no multi-index, so validate all of the indexers\u001b[0m\u001b[0;34m\u001b[0m\u001b[0;34m\u001b[0m\u001b[0m\n\u001b[0;32m--> 789\u001b[0;31m         \u001b[0mself\u001b[0m\u001b[0;34m.\u001b[0m\u001b[0m_has_valid_tuple\u001b[0m\u001b[0;34m(\u001b[0m\u001b[0mtup\u001b[0m\u001b[0;34m)\u001b[0m\u001b[0;34m\u001b[0m\u001b[0m\n\u001b[0m\u001b[1;32m    790\u001b[0m \u001b[0;34m\u001b[0m\u001b[0m\n\u001b[1;32m    791\u001b[0m         \u001b[0;31m# ugly hack for GH #836\u001b[0m\u001b[0;34m\u001b[0m\u001b[0;34m\u001b[0m\u001b[0m\n",
      "\u001b[0;32m/home/sidgupta234/anaconda2/envs/MLdevtools/lib/python2.7/site-packages/pandas/core/indexing.pyc\u001b[0m in \u001b[0;36m_has_valid_tuple\u001b[0;34m(self, key)\u001b[0m\n\u001b[1;32m    140\u001b[0m             \u001b[0;32mif\u001b[0m \u001b[0mi\u001b[0m \u001b[0;34m>=\u001b[0m \u001b[0mself\u001b[0m\u001b[0;34m.\u001b[0m\u001b[0mobj\u001b[0m\u001b[0;34m.\u001b[0m\u001b[0mndim\u001b[0m\u001b[0;34m:\u001b[0m\u001b[0;34m\u001b[0m\u001b[0m\n\u001b[1;32m    141\u001b[0m                 \u001b[0;32mraise\u001b[0m \u001b[0mIndexingError\u001b[0m\u001b[0;34m(\u001b[0m\u001b[0;34m'Too many indexers'\u001b[0m\u001b[0;34m)\u001b[0m\u001b[0;34m\u001b[0m\u001b[0m\n\u001b[0;32m--> 142\u001b[0;31m             \u001b[0;32mif\u001b[0m \u001b[0;32mnot\u001b[0m \u001b[0mself\u001b[0m\u001b[0;34m.\u001b[0m\u001b[0m_has_valid_type\u001b[0m\u001b[0;34m(\u001b[0m\u001b[0mk\u001b[0m\u001b[0;34m,\u001b[0m \u001b[0mi\u001b[0m\u001b[0;34m)\u001b[0m\u001b[0;34m:\u001b[0m\u001b[0;34m\u001b[0m\u001b[0m\n\u001b[0m\u001b[1;32m    143\u001b[0m                 raise ValueError(\"Location based indexing can only have [%s] \"\n\u001b[1;32m    144\u001b[0m                                  \"types\" % self._valid_types)\n",
      "\u001b[0;32m/home/sidgupta234/anaconda2/envs/MLdevtools/lib/python2.7/site-packages/pandas/core/indexing.pyc\u001b[0m in \u001b[0;36m_has_valid_type\u001b[0;34m(self, key, axis)\u001b[0m\n\u001b[1;32m   1377\u001b[0m \u001b[0;34m\u001b[0m\u001b[0m\n\u001b[1;32m   1378\u001b[0m                 raise KeyError(\"None of [%s] are in the [%s]\" %\n\u001b[0;32m-> 1379\u001b[0;31m                                (key, self.obj._get_axis_name(axis)))\n\u001b[0m\u001b[1;32m   1380\u001b[0m \u001b[0;34m\u001b[0m\u001b[0m\n\u001b[1;32m   1381\u001b[0m             \u001b[0;32mreturn\u001b[0m \u001b[0mTrue\u001b[0m\u001b[0;34m\u001b[0m\u001b[0m\n",
      "\u001b[0;31mKeyError\u001b[0m: 'None of [[0, 1, 2]] are in the [columns]'"
     ]
    }
   ],
   "source": [
    "dframe.to_csv(sys.stdout, columns=[0,1,2])"
   ]
  },
  {
   "cell_type": "code",
   "execution_count": null,
   "metadata": {
    "collapsed": true
   },
   "outputs": [],
   "source": []
  }
 ],
 "metadata": {
  "anaconda-cloud": {},
  "kernelspec": {
   "display_name": "Python [conda env:MLdevtools]",
   "language": "python",
   "name": "conda-env-MLdevtools-py"
  },
  "language_info": {
   "codemirror_mode": {
    "name": "ipython",
    "version": 2
   },
   "file_extension": ".py",
   "mimetype": "text/x-python",
   "name": "python",
   "nbconvert_exporter": "python",
   "pygments_lexer": "ipython2",
   "version": "2.7.12"
  }
 },
 "nbformat": 4,
 "nbformat_minor": 1
}
